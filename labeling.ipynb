{
 "cells": [
  {
   "cell_type": "code",
   "execution_count": 1,
   "metadata": {},
   "outputs": [],
   "source": [
    "import pandas as pd\n",
    "import random"
   ]
  },
  {
   "cell_type": "markdown",
   "metadata": {},
   "source": [
    "### Читаем данные"
   ]
  },
  {
   "cell_type": "code",
   "execution_count": 2,
   "metadata": {},
   "outputs": [],
   "source": [
    "df = pd.read_csv('data.csv', sep='\\t')\n",
    "df = df.sample(frac=1.0, random_state=42)[['query', 'title', 'label']].copy()\n",
    "\n",
    "labels_map = {\n",
    "    2: 1,\n",
    "    1: -1,\n",
    "    0: 0,\n",
    "}\n",
    "\n",
    "df['label'] = [labels_map[l] for l in df['label']]"
   ]
  },
  {
   "cell_type": "code",
   "execution_count": 3,
   "metadata": {},
   "outputs": [],
   "source": [
    "dev = df.iloc[:1000].copy()\n",
    "train = df.iloc[1000:9000][['query', 'title']].copy()\n",
    "test = df.iloc[9000:].copy()"
   ]
  },
  {
   "cell_type": "code",
   "execution_count": 4,
   "metadata": {},
   "outputs": [],
   "source": [
    "toloka_solutions = {(s['query'], s['title']): s['label'] for _, s in dev.iterrows()}"
   ]
  },
  {
   "cell_type": "markdown",
   "metadata": {},
   "source": [
    "### Делаем разметчиков"
   ]
  },
  {
   "cell_type": "code",
   "execution_count": 5,
   "metadata": {},
   "outputs": [],
   "source": [
    "from snorkel.labeling import LabelingFunction, labeling_function\n",
    "from utils import sanitize, normalize\n",
    "\n",
    "\n",
    "ABSTAIN = -1\n",
    "\n",
    "@labeling_function()\n",
    "def toloka_lf(x):\n",
    "    return toloka_solutions.get((x['query'], x['title']), ABSTAIN)\n",
    "\n",
    "\n",
    "@labeling_function()\n",
    "def full_match_lf(x):\n",
    "    q = x['query']\n",
    "    t = x['title']\n",
    "    q = sanitize(q)\n",
    "    t = sanitize(t)\n",
    "    if q == t:\n",
    "        return 1\n",
    "    return ABSTAIN\n",
    "\n",
    "\n",
    "@labeling_function()\n",
    "def no_match_lf(x):\n",
    "    q = x['query']\n",
    "    t = x['title']\n",
    "    q = normalize(sanitize(q))\n",
    "    t = normalize(sanitize(t))\n",
    "    for word in q.split():\n",
    "        if word in t:\n",
    "            return ABSTAIN\n",
    "    return 0\n",
    "\n",
    "\n",
    "lfs = [\n",
    "    toloka_lf, \n",
    "    full_match_lf, \n",
    "    no_match_lf,\n",
    "]"
   ]
  },
  {
   "cell_type": "code",
   "execution_count": 6,
   "metadata": {},
   "outputs": [
    {
     "name": "stderr",
     "output_type": "stream",
     "text": [
      "100%|██████████| 8000/8000 [00:03<00:00, 2600.23it/s]\n",
      "100%|██████████| 1000/1000 [00:00<00:00, 2630.59it/s]\n"
     ]
    }
   ],
   "source": [
    "from snorkel.labeling import PandasLFApplier\n",
    "\n",
    "applier = PandasLFApplier(lfs)\n",
    "L_train = applier.apply(train)\n",
    "L_dev = applier.apply(dev)"
   ]
  },
  {
   "cell_type": "code",
   "execution_count": 7,
   "metadata": {},
   "outputs": [
    {
     "data": {
      "text/html": [
       "<div>\n",
       "<style scoped>\n",
       "    .dataframe tbody tr th:only-of-type {\n",
       "        vertical-align: middle;\n",
       "    }\n",
       "\n",
       "    .dataframe tbody tr th {\n",
       "        vertical-align: top;\n",
       "    }\n",
       "\n",
       "    .dataframe thead th {\n",
       "        text-align: right;\n",
       "    }\n",
       "</style>\n",
       "<table border=\"1\" class=\"dataframe\">\n",
       "  <thead>\n",
       "    <tr style=\"text-align: right;\">\n",
       "      <th></th>\n",
       "      <th>j</th>\n",
       "      <th>Polarity</th>\n",
       "      <th>Coverage</th>\n",
       "      <th>Overlaps</th>\n",
       "      <th>Conflicts</th>\n",
       "      <th>Correct</th>\n",
       "      <th>Incorrect</th>\n",
       "      <th>Emp. Acc.</th>\n",
       "    </tr>\n",
       "  </thead>\n",
       "  <tbody>\n",
       "    <tr>\n",
       "      <th>toloka_lf</th>\n",
       "      <td>0</td>\n",
       "      <td>[0, 1]</td>\n",
       "      <td>0.980</td>\n",
       "      <td>0.268</td>\n",
       "      <td>0.057</td>\n",
       "      <td>977</td>\n",
       "      <td>0</td>\n",
       "      <td>0.996939</td>\n",
       "    </tr>\n",
       "    <tr>\n",
       "      <th>full_match_lf</th>\n",
       "      <td>1</td>\n",
       "      <td>[1]</td>\n",
       "      <td>0.161</td>\n",
       "      <td>0.161</td>\n",
       "      <td>0.000</td>\n",
       "      <td>161</td>\n",
       "      <td>0</td>\n",
       "      <td>1.000000</td>\n",
       "    </tr>\n",
       "    <tr>\n",
       "      <th>no_match_lf</th>\n",
       "      <td>2</td>\n",
       "      <td>[0]</td>\n",
       "      <td>0.114</td>\n",
       "      <td>0.107</td>\n",
       "      <td>0.057</td>\n",
       "      <td>50</td>\n",
       "      <td>57</td>\n",
       "      <td>0.438596</td>\n",
       "    </tr>\n",
       "  </tbody>\n",
       "</table>\n",
       "</div>"
      ],
      "text/plain": [
       "               j Polarity  Coverage  Overlaps  Conflicts  Correct  Incorrect  \\\n",
       "toloka_lf      0   [0, 1]     0.980     0.268      0.057      977          0   \n",
       "full_match_lf  1      [1]     0.161     0.161      0.000      161          0   \n",
       "no_match_lf    2      [0]     0.114     0.107      0.057       50         57   \n",
       "\n",
       "               Emp. Acc.  \n",
       "toloka_lf       0.996939  \n",
       "full_match_lf   1.000000  \n",
       "no_match_lf     0.438596  "
      ]
     },
     "execution_count": 7,
     "metadata": {},
     "output_type": "execute_result"
    }
   ],
   "source": [
    "from snorkel.labeling import LFAnalysis\n",
    "\n",
    "LFAnalysis(L_dev, lfs).lf_summary(dev.label.values).tail(5)"
   ]
  },
  {
   "cell_type": "code",
   "execution_count": 8,
   "metadata": {},
   "outputs": [
    {
     "name": "stdout",
     "output_type": "stream",
     "text": [
      "Training set coverage:  30.4%\n",
      "Dev set coverage:  98.7%\n"
     ]
    }
   ],
   "source": [
    "print(f\"Training set coverage: {100 * LFAnalysis(L_train).label_coverage(): 0.1f}%\")\n",
    "print(f\"Dev set coverage: {100 * LFAnalysis(L_dev).label_coverage(): 0.1f}%\")"
   ]
  },
  {
   "cell_type": "markdown",
   "metadata": {},
   "source": [
    "### Обучаем разметочную модель"
   ]
  },
  {
   "cell_type": "code",
   "execution_count": 9,
   "metadata": {},
   "outputs": [],
   "source": [
    "from snorkel.labeling import LabelModel\n",
    "\n",
    "label_model = LabelModel(cardinality=2, verbose=True)\n",
    "label_model.fit(L_train, n_epochs=100, seed=123, log_freq=20, l2=0.1, lr=0.01)"
   ]
  },
  {
   "cell_type": "code",
   "execution_count": 10,
   "metadata": {},
   "outputs": [
    {
     "name": "stdout",
     "output_type": "stream",
     "text": [
      "LabelModel Accuracy: 0.990\n"
     ]
    }
   ],
   "source": [
    "from snorkel.analysis import metric_score\n",
    "\n",
    "preds_dev = label_model.predict(L_dev)\n",
    "\n",
    "acc = metric_score(dev.label.values, preds_dev, probs=None, metric=\"accuracy\")\n",
    "print(f\"LabelModel Accuracy: {acc:.3f}\")"
   ]
  }
 ],
 "metadata": {
  "kernelspec": {
   "display_name": "Python 3",
   "language": "python",
   "name": "python3"
  },
  "language_info": {
   "codemirror_mode": {
    "name": "ipython",
    "version": 3
   },
   "file_extension": ".py",
   "mimetype": "text/x-python",
   "name": "python",
   "nbconvert_exporter": "python",
   "pygments_lexer": "ipython3",
   "version": "3.6.8"
  }
 },
 "nbformat": 4,
 "nbformat_minor": 2
}
