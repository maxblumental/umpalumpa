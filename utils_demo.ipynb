{
 "cells": [
  {
   "cell_type": "code",
   "execution_count": 1,
   "metadata": {},
   "outputs": [],
   "source": [
    "examples = [\n",
    "    'Спасибо, что разрешили :)',\n",
    "    'доставка еды',\n",
    "    '2019 на дворе, а я никогда не забуду ранеток😢😭❤❤❤',\n",
    "]"
   ]
  },
  {
   "cell_type": "markdown",
   "metadata": {},
   "source": [
    "## sanitize text"
   ]
  },
  {
   "cell_type": "code",
   "execution_count": 2,
   "metadata": {},
   "outputs": [
    {
     "name": "stdout",
     "output_type": "stream",
     "text": [
      "\"Спасибо, что разрешили :)\"\t=>\t\"спасибо что разрешили\"\n",
      "\"доставка еды\"\t=>\t\"доставка еды\"\n",
      "\"2019 на дворе, а я никогда не забуду ранеток😢😭❤❤❤\"\t=>\t\"2019 на дворе а я никогда не забуду ранеток\"\n"
     ]
    }
   ],
   "source": [
    "from utils import sanitize\n",
    "\n",
    "for phrase in examples:\n",
    "    text = sanitize(phrase)\n",
    "    print(f'\"{phrase}\"\\t=>\\t\"{text}\"')"
   ]
  },
  {
   "cell_type": "markdown",
   "metadata": {},
   "source": [
    "## normalize text"
   ]
  },
  {
   "cell_type": "code",
   "execution_count": 3,
   "metadata": {},
   "outputs": [
    {
     "name": "stdout",
     "output_type": "stream",
     "text": [
      "\"Спасибо, что разрешили :)\"\t=>\t\"спасибо что разрешить\"\n",
      "\"доставка еды\"\t=>\t\"доставка еда\"\n",
      "\"2019 на дворе, а я никогда не забуду ранеток😢😭❤❤❤\"\t=>\t\"2019 на двор а я никогда не забыть ранетка\"\n"
     ]
    }
   ],
   "source": [
    "from utils import normalize\n",
    "\n",
    "for phrase in examples:\n",
    "    text = sanitize(phrase)\n",
    "    text = normalize(text)\n",
    "    print(f'\"{phrase}\"\\t=>\\t\"{text}\"')"
   ]
  }
 ],
 "metadata": {
  "kernelspec": {
   "display_name": "Python 3",
   "language": "python",
   "name": "python3"
  },
  "language_info": {
   "codemirror_mode": {
    "name": "ipython",
    "version": 3
   },
   "file_extension": ".py",
   "mimetype": "text/x-python",
   "name": "python",
   "nbconvert_exporter": "python",
   "pygments_lexer": "ipython3",
   "version": "3.6.8"
  }
 },
 "nbformat": 4,
 "nbformat_minor": 2
}
